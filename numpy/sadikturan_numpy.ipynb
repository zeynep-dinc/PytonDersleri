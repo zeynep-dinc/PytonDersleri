{
 "metadata": {
  "language_info": {
   "codemirror_mode": {
    "name": "ipython",
    "version": 3
   },
   "file_extension": ".py",
   "mimetype": "text/x-python",
   "name": "python",
   "nbconvert_exporter": "python",
   "pygments_lexer": "ipython3",
   "version": "3.9.1-final"
  },
  "orig_nbformat": 2,
  "kernelspec": {
   "name": "python3",
   "display_name": "Python 3.9.1 64-bit",
   "metadata": {
    "interpreter": {
     "hash": "4ddc10d40a42868321674e1571a42df0c7fd233a2687598209a7e6ea2cca97f8"
    }
   }
  }
 },
 "nbformat": 4,
 "nbformat_minor": 2,
 "cells": [
  {
   "cell_type": "code",
   "execution_count": 76,
   "metadata": {},
   "outputs": [],
   "source": [
    "import numpy as np"
   ]
  },
  {
   "cell_type": "code",
   "execution_count": 77,
   "metadata": {},
   "outputs": [
    {
     "output_type": "execute_result",
     "data": {
      "text/plain": [
       "array([10, 15, 30, 45, 60])"
      ]
     },
     "metadata": {},
     "execution_count": 77
    }
   ],
   "source": [
    "#soru1\n",
    "np.array([10,15,30,45,60])"
   ]
  },
  {
   "cell_type": "code",
   "execution_count": 78,
   "metadata": {},
   "outputs": [
    {
     "output_type": "execute_result",
     "data": {
      "text/plain": [
       "array([ 5,  6,  7,  8,  9, 10, 11, 12, 13, 14, 15])"
      ]
     },
     "metadata": {},
     "execution_count": 78
    }
   ],
   "source": [
    "#soru2\n",
    "np.arange(5,16)"
   ]
  },
  {
   "cell_type": "code",
   "execution_count": 79,
   "metadata": {},
   "outputs": [
    {
     "output_type": "execute_result",
     "data": {
      "text/plain": [
       "array([ 50,  55,  60,  65,  70,  75,  80,  85,  90,  95, 100])"
      ]
     },
     "metadata": {},
     "execution_count": 79
    }
   ],
   "source": [
    "#soru3\n",
    "np.arange(50,101,5)"
   ]
  },
  {
   "cell_type": "code",
   "execution_count": 80,
   "metadata": {},
   "outputs": [
    {
     "output_type": "execute_result",
     "data": {
      "text/plain": [
       "array([0., 0., 0., 0., 0., 0., 0., 0., 0., 0.])"
      ]
     },
     "metadata": {},
     "execution_count": 80
    }
   ],
   "source": [
    "#soru4\n",
    "np.zeros(10)"
   ]
  },
  {
   "cell_type": "code",
   "execution_count": 81,
   "metadata": {},
   "outputs": [
    {
     "output_type": "execute_result",
     "data": {
      "text/plain": [
       "array([1., 1., 1., 1., 1., 1., 1., 1., 1., 1.])"
      ]
     },
     "metadata": {},
     "execution_count": 81
    }
   ],
   "source": [
    "#soru5\n",
    "np.ones(10)"
   ]
  },
  {
   "cell_type": "code",
   "execution_count": 82,
   "metadata": {},
   "outputs": [
    {
     "output_type": "execute_result",
     "data": {
      "text/plain": [
       "array([  0.,  25.,  50.,  75., 100.])"
      ]
     },
     "metadata": {},
     "execution_count": 82
    }
   ],
   "source": [
    "#soru6\n",
    "np.linspace(0,100,5)"
   ]
  },
  {
   "cell_type": "code",
   "execution_count": 83,
   "metadata": {},
   "outputs": [
    {
     "output_type": "execute_result",
     "data": {
      "text/plain": [
       "array([16, 19, 27, 22, 18])"
      ]
     },
     "metadata": {},
     "execution_count": 83
    }
   ],
   "source": [
    "#soru7\n",
    "np.random.randint(10,30,5)"
   ]
  },
  {
   "cell_type": "code",
   "execution_count": 84,
   "metadata": {},
   "outputs": [
    {
     "output_type": "execute_result",
     "data": {
      "text/plain": [
       "array([-1.40341087, -0.59935859,  0.53545853, -1.9508632 ,  0.0439043 ,\n",
       "        1.98926956, -0.23412795, -1.71097563, -1.47804665,  1.51717264])"
      ]
     },
     "metadata": {},
     "execution_count": 84
    }
   ],
   "source": [
    "#soru8\n",
    "np.random.randn(10)"
   ]
  },
  {
   "cell_type": "code",
   "execution_count": 85,
   "metadata": {},
   "outputs": [
    {
     "output_type": "execute_result",
     "data": {
      "text/plain": [
       "array([[-36,  38, -23,  44, -10],\n",
       "       [-33, -22, -22, -10,  10],\n",
       "       [ 17,  14,  33, -11,   7]])"
      ]
     },
     "metadata": {},
     "execution_count": 85
    }
   ],
   "source": [
    "#soru9\n",
    "s9=np.random.randint(-50,50,(3,5))\n",
    "s9"
   ]
  },
  {
   "cell_type": "code",
   "execution_count": 86,
   "metadata": {},
   "outputs": [
    {
     "output_type": "execute_result",
     "data": {
      "text/plain": [
       "-4"
      ]
     },
     "metadata": {},
     "execution_count": 86
    }
   ],
   "source": [
    "#soru10\n",
    "toplam=0\n",
    "for i in range(3):\n",
    "    for j in range(5):\n",
    "        toplam=np.add(toplam,s9[i][j])\n",
    "toplam"
   ]
  },
  {
   "cell_type": "code",
   "execution_count": 87,
   "metadata": {},
   "outputs": [
    {
     "output_type": "stream",
     "name": "stdout",
     "text": [
      "max= 44  min= -36  mean= -0.26666666666666666\n"
     ]
    }
   ],
   "source": [
    "#soru11\n",
    "max=s9.max()\n",
    "min=s9.min()\n",
    "mean=s9.mean()\n",
    "print(\"max=\",max,\" min=\",min,\" mean=\",mean)"
   ]
  },
  {
   "cell_type": "code",
   "execution_count": 88,
   "metadata": {},
   "outputs": [
    {
     "output_type": "execute_result",
     "data": {
      "text/plain": [
       "3"
      ]
     },
     "metadata": {},
     "execution_count": 88
    }
   ],
   "source": [
    "#soru12\n",
    "s9.argmax()"
   ]
  },
  {
   "cell_type": "code",
   "execution_count": 89,
   "metadata": {},
   "outputs": [
    {
     "output_type": "execute_result",
     "data": {
      "text/plain": [
       "array([10, 11, 12])"
      ]
     },
     "metadata": {},
     "execution_count": 89
    }
   ],
   "source": [
    "#soru13\n",
    "s13=np.arange(10,21)\n",
    "\n",
    "s13[:3]"
   ]
  },
  {
   "cell_type": "code",
   "execution_count": 90,
   "metadata": {},
   "outputs": [
    {
     "output_type": "execute_result",
     "data": {
      "text/plain": [
       "array([20, 19, 18, 17, 16, 15, 14, 13, 12, 11, 10])"
      ]
     },
     "metadata": {},
     "execution_count": 90
    }
   ],
   "source": [
    "#soru14\n",
    "s13[::-1]"
   ]
  },
  {
   "cell_type": "code",
   "execution_count": 91,
   "metadata": {},
   "outputs": [
    {
     "output_type": "execute_result",
     "data": {
      "text/plain": [
       "array([-36,  38, -23,  44, -10])"
      ]
     },
     "metadata": {},
     "execution_count": 91
    }
   ],
   "source": [
    "#soru15\n",
    "s9[0,:5]"
   ]
  },
  {
   "cell_type": "code",
   "execution_count": 92,
   "metadata": {},
   "outputs": [
    {
     "output_type": "execute_result",
     "data": {
      "text/plain": [
       "-22"
      ]
     },
     "metadata": {},
     "execution_count": 92
    }
   ],
   "source": [
    "#soru16\n",
    "s9[1,2]"
   ]
  },
  {
   "cell_type": "code",
   "execution_count": 93,
   "metadata": {},
   "outputs": [
    {
     "output_type": "execute_result",
     "data": {
      "text/plain": [
       "array([-36, -33,  17])"
      ]
     },
     "metadata": {},
     "execution_count": 93
    }
   ],
   "source": [
    "#soru17\n",
    "s9[0:,0]"
   ]
  },
  {
   "cell_type": "code",
   "execution_count": 94,
   "metadata": {},
   "outputs": [
    {
     "output_type": "execute_result",
     "data": {
      "text/plain": [
       "array([[1296, 1444,  529, 1936,  100],\n",
       "       [1089,  484,  484,  100,  100],\n",
       "       [ 289,  196, 1089,  121,   49]], dtype=int32)"
      ]
     },
     "metadata": {},
     "execution_count": 94
    }
   ],
   "source": [
    "#soru18\n",
    "np.square(s9)"
   ]
  },
  {
   "cell_type": "code",
   "execution_count": 112,
   "metadata": {},
   "outputs": [
    {
     "output_type": "execute_result",
     "data": {
      "text/plain": [
       "array([38, 44, 10, 14])"
      ]
     },
     "metadata": {},
     "execution_count": 112
    }
   ],
   "source": [
    "#soru19\n",
    "a=s9[s9%2==0]\n",
    "a[a>0]"
   ]
  }
 ]
}