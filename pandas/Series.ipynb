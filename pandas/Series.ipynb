{
 "metadata": {
  "language_info": {
   "codemirror_mode": {
    "name": "ipython",
    "version": 3
   },
   "file_extension": ".py",
   "mimetype": "text/x-python",
   "name": "python",
   "nbconvert_exporter": "python",
   "pygments_lexer": "ipython3",
   "version": "3.9.1-final"
  },
  "orig_nbformat": 2,
  "kernelspec": {
   "name": "python3",
   "display_name": "Python 3.9.1 64-bit",
   "metadata": {
    "interpreter": {
     "hash": "4ddc10d40a42868321674e1571a42df0c7fd233a2687598209a7e6ea2cca97f8"
    }
   }
  }
 },
 "nbformat": 4,
 "nbformat_minor": 2,
 "cells": [
  {
   "cell_type": "code",
   "execution_count": 302,
   "metadata": {},
   "outputs": [],
   "source": [
    "import numpy as np\n",
    "import pandas as pd                     #mantık excele benziyor"
   ]
  },
  {
   "cell_type": "code",
   "execution_count": 303,
   "metadata": {},
   "outputs": [],
   "source": [
    "# SERIES/ SERİLER\n",
    "sozluk={\"Zeynep\":26,\"Ayşe\":45,\"Fatma\":12}"
   ]
  },
  {
   "cell_type": "code",
   "execution_count": 304,
   "metadata": {},
   "outputs": [
    {
     "output_type": "execute_result",
     "data": {
      "text/plain": [
       "Zeynep    26\n",
       "Ayşe      45\n",
       "Fatma     12\n",
       "dtype: int64"
      ]
     },
     "metadata": {},
     "execution_count": 304
    }
   ],
   "source": [
    "pd.Series(sozluk)                   #seriyi oluşturdu"
   ]
  },
  {
   "cell_type": "code",
   "execution_count": 305,
   "metadata": {},
   "outputs": [],
   "source": [
    "liste1=[10,20,50]\n",
    "liste2=[\"elma\",\"armut\",\"ayva\"]"
   ]
  },
  {
   "cell_type": "code",
   "execution_count": 306,
   "metadata": {},
   "outputs": [
    {
     "output_type": "execute_result",
     "data": {
      "text/plain": [
       "elma     10\n",
       "armut    20\n",
       "ayva     50\n",
       "dtype: int64"
      ]
     },
     "metadata": {},
     "execution_count": 306
    }
   ],
   "source": [
    "pd.Series(data=liste1,index=liste2)                        #sözlük varken pek ihtiyaç yok gibi ama"
   ]
  },
  {
   "cell_type": "code",
   "execution_count": 307,
   "metadata": {},
   "outputs": [
    {
     "output_type": "stream",
     "name": "stdout",
     "text": [
      "[[0.72894434 0.70325762]\n [0.82858356 0.21861832]\n [0.14327216 0.33926726]]\n"
     ]
    },
    {
     "output_type": "execute_result",
     "data": {
      "text/plain": [
       "elma     0.728944\n",
       "armut    0.703258\n",
       "ayva     0.828584\n",
       "şeker    0.218618\n",
       "süt      0.143272\n",
       "un       0.339267\n",
       "dtype: float64"
      ]
     },
     "metadata": {},
     "execution_count": 307
    }
   ],
   "source": [
    "fiyatlar=np.random.rand(3,2)\n",
    "urunler=[\"elma\",\"armut\",\"ayva\",\"şeker\",\"süt\",\"un\"]\n",
    "print(fiyatlar)\n",
    "fiyatlar=pd.Series(fiyatlar.reshape(6),index=urunler)                     #matrisi doğrudan seriye koyamıyorsun\n",
    "fiyatlar"
   ]
  },
  {
   "cell_type": "code",
   "execution_count": 308,
   "metadata": {},
   "outputs": [
    {
     "output_type": "execute_result",
     "data": {
      "text/plain": [
       "elma     1.457889\n",
       "armut    1.406515\n",
       "ayva     1.657167\n",
       "şeker    0.437237\n",
       "süt      0.286544\n",
       "un       0.678535\n",
       "dtype: float64"
      ]
     },
     "metadata": {},
     "execution_count": 308
    }
   ],
   "source": [
    "yeni_fiyatlar=fiyatlar.copy()               #kopyala\n",
    "yeni_fiyatlar+=fiyatlar\n",
    "yeni_fiyatlar"
   ]
  },
  {
   "cell_type": "code",
   "execution_count": 309,
   "metadata": {},
   "outputs": [
    {
     "output_type": "execute_result",
     "data": {
      "text/plain": [
       "0.9999999999999998"
      ]
     },
     "metadata": {},
     "execution_count": 309
    }
   ],
   "source": [
    "yeni_fiyatlar.corr(fiyatlar)"
   ]
  },
  {
   "cell_type": "code",
   "execution_count": 310,
   "metadata": {},
   "outputs": [
    {
     "output_type": "execute_result",
     "data": {
      "text/plain": [
       "           self     other\n",
       "elma   1.457889  0.728944\n",
       "armut  1.406515  0.703258\n",
       "ayva   1.657167  0.828584\n",
       "şeker  0.437237  0.218618\n",
       "süt    0.286544  0.143272\n",
       "un     0.678535  0.339267"
      ],
      "text/html": "<div>\n<style scoped>\n    .dataframe tbody tr th:only-of-type {\n        vertical-align: middle;\n    }\n\n    .dataframe tbody tr th {\n        vertical-align: top;\n    }\n\n    .dataframe thead th {\n        text-align: right;\n    }\n</style>\n<table border=\"1\" class=\"dataframe\">\n  <thead>\n    <tr style=\"text-align: right;\">\n      <th></th>\n      <th>self</th>\n      <th>other</th>\n    </tr>\n  </thead>\n  <tbody>\n    <tr>\n      <th>elma</th>\n      <td>1.457889</td>\n      <td>0.728944</td>\n    </tr>\n    <tr>\n      <th>armut</th>\n      <td>1.406515</td>\n      <td>0.703258</td>\n    </tr>\n    <tr>\n      <th>ayva</th>\n      <td>1.657167</td>\n      <td>0.828584</td>\n    </tr>\n    <tr>\n      <th>şeker</th>\n      <td>0.437237</td>\n      <td>0.218618</td>\n    </tr>\n    <tr>\n      <th>süt</th>\n      <td>0.286544</td>\n      <td>0.143272</td>\n    </tr>\n    <tr>\n      <th>un</th>\n      <td>0.678535</td>\n      <td>0.339267</td>\n    </tr>\n  </tbody>\n</table>\n</div>"
     },
     "metadata": {},
     "execution_count": 310
    }
   ],
   "source": [
    "yeni_fiyatlar.compare(fiyatlar)                 #karşılaştırma yapmana olanak veriyor. BAYES Tabloları çok güzel oluşur bunla"
   ]
  },
  {
   "cell_type": "code",
   "execution_count": 311,
   "metadata": {},
   "outputs": [
    {
     "output_type": "execute_result",
     "data": {
      "text/plain": [
       "saglam    0.38\n",
       "bozuk     0.02\n",
       "dtype: float64"
      ]
     },
     "metadata": {},
     "execution_count": 311
    }
   ],
   "source": [
    "\"\"\"\n",
    "Yedek parça satımı yapan bir firma A yedek parçasının\n",
    "%40’ını X firmasından alırken %60’ını Y firmasından almaktadır. X\n",
    "firması yedek parçalarının %5’i kusurlu iken bu oran Y firması yedek\n",
    "parçaları için %3’dür. A yedek parçasını satın alan kişi firmaya\n",
    "telefon ederek yedek parçanın kusurlu olduğunu söylemiştir. Bu\n",
    "yedek parçanın X firmasından alınmış olması olasılığı nedir?\n",
    "\"\"\"\n",
    "X={\"saglam\":0.95,\"bozuk\":0.05}\n",
    "Y={\"saglam\":0.97,\"bozuk\":0.03}\n",
    "\n",
    "a=[0.4,0.6]\n",
    "x=pd.Series(X)*a[0]\n",
    "x"
   ]
  },
  {
   "cell_type": "code",
   "execution_count": 312,
   "metadata": {},
   "outputs": [
    {
     "output_type": "execute_result",
     "data": {
      "text/plain": [
       "saglam    0.582\n",
       "bozuk     0.018\n",
       "dtype: float64"
      ]
     },
     "metadata": {},
     "execution_count": 312
    }
   ],
   "source": [
    "y=pd.Series(Y)*a[1]\n",
    "y"
   ]
  },
  {
   "cell_type": "code",
   "execution_count": 313,
   "metadata": {},
   "outputs": [
    {
     "output_type": "execute_result",
     "data": {
      "text/plain": [
       "        self  other\n",
       "saglam  0.38  0.582\n",
       "bozuk   0.02  0.018"
      ],
      "text/html": "<div>\n<style scoped>\n    .dataframe tbody tr th:only-of-type {\n        vertical-align: middle;\n    }\n\n    .dataframe tbody tr th {\n        vertical-align: top;\n    }\n\n    .dataframe thead th {\n        text-align: right;\n    }\n</style>\n<table border=\"1\" class=\"dataframe\">\n  <thead>\n    <tr style=\"text-align: right;\">\n      <th></th>\n      <th>self</th>\n      <th>other</th>\n    </tr>\n  </thead>\n  <tbody>\n    <tr>\n      <th>saglam</th>\n      <td>0.38</td>\n      <td>0.582</td>\n    </tr>\n    <tr>\n      <th>bozuk</th>\n      <td>0.02</td>\n      <td>0.018</td>\n    </tr>\n  </tbody>\n</table>\n</div>"
     },
     "metadata": {},
     "execution_count": 313
    }
   ],
   "source": [
    "x.compare(y)"
   ]
  },
  {
   "cell_type": "code",
   "execution_count": 314,
   "metadata": {},
   "outputs": [
    {
     "output_type": "execute_result",
     "data": {
      "text/plain": [
       "0.5263157894736842"
      ]
     },
     "metadata": {},
     "execution_count": 314
    }
   ],
   "source": [
    "topla={\"saglam\":x[0]+y[0],\"bozuk\":x[1]+y[1]}\n",
    "topla=pd.Series(topla)\n",
    "a=x[1]/topla[1]\n",
    "a"
   ]
  },
  {
   "cell_type": "code",
   "execution_count": 315,
   "metadata": {},
   "outputs": [],
   "source": [
    "##Ozellikler\n",
    "yeni_urunler={\"makarna\":0.5,\"su\":0.5,\"zeytin\":2,\"faiz\":-9}\n",
    "yeni_urunler=pd.Series(yeni_urunler)"
   ]
  },
  {
   "cell_type": "code",
   "execution_count": 316,
   "metadata": {},
   "outputs": [
    {
     "output_type": "execute_result",
     "data": {
      "text/plain": [
       "armut      1.406515\n",
       "ayva       1.657167\n",
       "elma       1.457889\n",
       "faiz      -9.000000\n",
       "makarna    0.500000\n",
       "su         0.500000\n",
       "süt        0.286544\n",
       "un         0.678535\n",
       "zeytin     2.000000\n",
       "şeker      0.437237\n",
       "dtype: float64"
      ]
     },
     "metadata": {},
     "execution_count": 316
    }
   ],
   "source": [
    "yeni_fiyatlar.add(fiyatlar)\n",
    "yeni_fiyatlar.add(yeni_urunler,fill_value=0)                #Yeni seri  veya data frame eklemek için kullanılıyor."
   ]
  },
  {
   "cell_type": "code",
   "execution_count": 317,
   "metadata": {},
   "outputs": [
    {
     "output_type": "execute_result",
     "data": {
      "text/plain": [
       "makarna    0.5\n",
       "su         0.5\n",
       "zeytin     2.0\n",
       "faiz       9.0\n",
       "dtype: float64"
      ]
     },
     "metadata": {},
     "execution_count": 317
    }
   ],
   "source": [
    "yeni_urunler.abs()                 #absolute=> mutlak değere dönüyor"
   ]
  },
  {
   "cell_type": "code",
   "execution_count": 318,
   "metadata": {},
   "outputs": [
    {
     "output_type": "execute_result",
     "data": {
      "text/plain": [
       "prefix_makarna    0.5\n",
       "prefix_su         0.5\n",
       "prefix_zeytin     2.0\n",
       "prefix_faiz      -9.0\n",
       "dtype: float64"
      ]
     },
     "metadata": {},
     "execution_count": 318
    }
   ],
   "source": [
    "yeni_urunler.add_prefix(\"prefix_\")                          #indexlerin başına belirtilen değeri ekliyor"
   ]
  },
  {
   "cell_type": "code",
   "execution_count": 319,
   "metadata": {},
   "outputs": [
    {
     "output_type": "execute_result",
     "data": {
      "text/plain": [
       "makarna_suffix    0.5\n",
       "su_suffix         0.5\n",
       "zeytin_suffix     2.0\n",
       "faiz_suffix      -9.0\n",
       "dtype: float64"
      ]
     },
     "metadata": {},
     "execution_count": 319
    }
   ],
   "source": [
    "yeni_urunler.add_suffix(\"_suffix\")                          #index'in sonuna ekliyor bu da"
   ]
  },
  {
   "cell_type": "code",
   "execution_count": 320,
   "metadata": {},
   "outputs": [
    {
     "output_type": "execute_result",
     "data": {
      "text/plain": [
       "-6.0"
      ]
     },
     "metadata": {},
     "execution_count": 320
    }
   ],
   "source": [
    "# içine yazılan fonksiyon ismini getirir. Örneğin min,std,median,max,mean,count gibi ama ismi string formatında yazman gerek\n",
    "yeni_urunler.agg(\"min\")             \n",
    "yeni_urunler.agg(\"max\") \n",
    "yeni_urunler.agg(\"mean\")\n",
    "yeni_urunler.agg(\"std\")\n",
    "yeni_urunler.agg(\"median\")\n",
    "yeni_urunler.agg(\"sum\")\n"
   ]
  },
  {
   "cell_type": "code",
   "execution_count": 321,
   "metadata": {},
   "outputs": [
    {
     "output_type": "execute_result",
     "data": {
      "text/plain": [
       "makarna    0.50\n",
       "su         0.50\n",
       "zeytin     2.00\n",
       "faiz      -9.00\n",
       "saglam     0.38\n",
       "bozuk      0.02\n",
       "dtype: float64"
      ]
     },
     "metadata": {},
     "execution_count": 321
    }
   ],
   "source": [
    "yeni_urunler.append(x)                      #ekleme     "
   ]
  },
  {
   "cell_type": "code",
   "execution_count": 322,
   "metadata": {},
   "outputs": [
    {
     "output_type": "execute_result",
     "data": {
      "text/plain": [
       "makarna     0.25\n",
       "su          0.25\n",
       "zeytin      4.00\n",
       "faiz       81.00\n",
       "dtype: float64"
      ]
     },
     "metadata": {},
     "execution_count": 322
    }
   ],
   "source": [
    "yeni_urunler.apply(\"square\")                        #agg ile aynı neredeyse sadece daha geniş fonksiyon yapısı var. Karekök, karesi,logartima gibi işlemleri yapıyor."
   ]
  },
  {
   "cell_type": "code",
   "execution_count": 323,
   "metadata": {},
   "outputs": [
    {
     "output_type": "execute_result",
     "data": {
      "text/plain": [
       "makarna    0.5\n",
       "zeytin     2.0\n",
       "faiz      -9.0\n",
       "dtype: float64"
      ]
     },
     "metadata": {},
     "execution_count": 323
    }
   ],
   "source": [
    "yeni_urunler.pop(\"su\")                                  #belirtilen değeri siler\n",
    "yeni_urunler"
   ]
  },
  {
   "cell_type": "code",
   "execution_count": null,
   "metadata": {},
   "outputs": [],
   "source": []
  }
 ]
}